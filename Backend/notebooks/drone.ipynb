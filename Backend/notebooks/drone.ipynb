{
  "cells": [
    {
      "cell_type": "code",
      "execution_count": null,
      "metadata": {
        "colab": {
          "base_uri": "https://localhost:8080/"
        },
        "id": "Xl2lmVnEqcdC",
        "outputId": "8168800d-d1ee-4974-824d-5d4ae907eea5"
      },
      "outputs": [
        {
          "name": "stdout",
          "output_type": "stream",
          "text": [
            "Requirement already satisfied: transformers in /usr/local/lib/python3.12/dist-packages (4.56.1)\n",
            "Requirement already satisfied: torch in /usr/local/lib/python3.12/dist-packages (2.8.0+cu126)\n",
            "Requirement already satisfied: datasets in /usr/local/lib/python3.12/dist-packages (4.0.0)\n",
            "Requirement already satisfied: librosa in /usr/local/lib/python3.12/dist-packages (0.11.0)\n",
            "Requirement already satisfied: filelock in /usr/local/lib/python3.12/dist-packages (from transformers) (3.19.1)\n",
            "Requirement already satisfied: huggingface-hub<1.0,>=0.34.0 in /usr/local/lib/python3.12/dist-packages (from transformers) (0.35.0)\n",
            "Requirement already satisfied: numpy>=1.17 in /usr/local/lib/python3.12/dist-packages (from transformers) (2.0.2)\n",
            "Requirement already satisfied: packaging>=20.0 in /usr/local/lib/python3.12/dist-packages (from transformers) (25.0)\n",
            "Requirement already satisfied: pyyaml>=5.1 in /usr/local/lib/python3.12/dist-packages (from transformers) (6.0.2)\n",
            "Requirement already satisfied: regex!=2019.12.17 in /usr/local/lib/python3.12/dist-packages (from transformers) (2024.11.6)\n",
            "Requirement already satisfied: requests in /usr/local/lib/python3.12/dist-packages (from transformers) (2.32.4)\n",
            "Requirement already satisfied: tokenizers<=0.23.0,>=0.22.0 in /usr/local/lib/python3.12/dist-packages (from transformers) (0.22.0)\n",
            "Requirement already satisfied: safetensors>=0.4.3 in /usr/local/lib/python3.12/dist-packages (from transformers) (0.6.2)\n",
            "Requirement already satisfied: tqdm>=4.27 in /usr/local/lib/python3.12/dist-packages (from transformers) (4.67.1)\n",
            "Requirement already satisfied: typing-extensions>=4.10.0 in /usr/local/lib/python3.12/dist-packages (from torch) (4.15.0)\n",
            "Requirement already satisfied: setuptools in /usr/local/lib/python3.12/dist-packages (from torch) (75.2.0)\n",
            "Requirement already satisfied: sympy>=1.13.3 in /usr/local/lib/python3.12/dist-packages (from torch) (1.13.3)\n",
            "Requirement already satisfied: networkx in /usr/local/lib/python3.12/dist-packages (from torch) (3.5)\n",
            "Requirement already satisfied: jinja2 in /usr/local/lib/python3.12/dist-packages (from torch) (3.1.6)\n",
            "Requirement already satisfied: fsspec in /usr/local/lib/python3.12/dist-packages (from torch) (2025.3.0)\n",
            "Requirement already satisfied: nvidia-cuda-nvrtc-cu12==12.6.77 in /usr/local/lib/python3.12/dist-packages (from torch) (12.6.77)\n",
            "Requirement already satisfied: nvidia-cuda-runtime-cu12==12.6.77 in /usr/local/lib/python3.12/dist-packages (from torch) (12.6.77)\n",
            "Requirement already satisfied: nvidia-cuda-cupti-cu12==12.6.80 in /usr/local/lib/python3.12/dist-packages (from torch) (12.6.80)\n",
            "Requirement already satisfied: nvidia-cudnn-cu12==9.10.2.21 in /usr/local/lib/python3.12/dist-packages (from torch) (9.10.2.21)\n",
            "Requirement already satisfied: nvidia-cublas-cu12==12.6.4.1 in /usr/local/lib/python3.12/dist-packages (from torch) (12.6.4.1)\n",
            "Requirement already satisfied: nvidia-cufft-cu12==11.3.0.4 in /usr/local/lib/python3.12/dist-packages (from torch) (11.3.0.4)\n",
            "Requirement already satisfied: nvidia-curand-cu12==10.3.7.77 in /usr/local/lib/python3.12/dist-packages (from torch) (10.3.7.77)\n",
            "Requirement already satisfied: nvidia-cusolver-cu12==11.7.1.2 in /usr/local/lib/python3.12/dist-packages (from torch) (11.7.1.2)\n",
            "Requirement already satisfied: nvidia-cusparse-cu12==12.5.4.2 in /usr/local/lib/python3.12/dist-packages (from torch) (12.5.4.2)\n",
            "Requirement already satisfied: nvidia-cusparselt-cu12==0.7.1 in /usr/local/lib/python3.12/dist-packages (from torch) (0.7.1)\n",
            "Requirement already satisfied: nvidia-nccl-cu12==2.27.3 in /usr/local/lib/python3.12/dist-packages (from torch) (2.27.3)\n",
            "Requirement already satisfied: nvidia-nvtx-cu12==12.6.77 in /usr/local/lib/python3.12/dist-packages (from torch) (12.6.77)\n",
            "Requirement already satisfied: nvidia-nvjitlink-cu12==12.6.85 in /usr/local/lib/python3.12/dist-packages (from torch) (12.6.85)\n",
            "Requirement already satisfied: nvidia-cufile-cu12==1.11.1.6 in /usr/local/lib/python3.12/dist-packages (from torch) (1.11.1.6)\n",
            "Requirement already satisfied: triton==3.4.0 in /usr/local/lib/python3.12/dist-packages (from torch) (3.4.0)\n",
            "Requirement already satisfied: pyarrow>=15.0.0 in /usr/local/lib/python3.12/dist-packages (from datasets) (18.1.0)\n",
            "Requirement already satisfied: dill<0.3.9,>=0.3.0 in /usr/local/lib/python3.12/dist-packages (from datasets) (0.3.8)\n",
            "Requirement already satisfied: pandas in /usr/local/lib/python3.12/dist-packages (from datasets) (2.2.2)\n",
            "Requirement already satisfied: xxhash in /usr/local/lib/python3.12/dist-packages (from datasets) (3.5.0)\n",
            "Requirement already satisfied: multiprocess<0.70.17 in /usr/local/lib/python3.12/dist-packages (from datasets) (0.70.16)\n",
            "Requirement already satisfied: audioread>=2.1.9 in /usr/local/lib/python3.12/dist-packages (from librosa) (3.0.1)\n",
            "Requirement already satisfied: numba>=0.51.0 in /usr/local/lib/python3.12/dist-packages (from librosa) (0.60.0)\n",
            "Requirement already satisfied: scipy>=1.6.0 in /usr/local/lib/python3.12/dist-packages (from librosa) (1.16.2)\n",
            "Requirement already satisfied: scikit-learn>=1.1.0 in /usr/local/lib/python3.12/dist-packages (from librosa) (1.6.1)\n",
            "Requirement already satisfied: joblib>=1.0 in /usr/local/lib/python3.12/dist-packages (from librosa) (1.5.2)\n",
            "Requirement already satisfied: decorator>=4.3.0 in /usr/local/lib/python3.12/dist-packages (from librosa) (4.4.2)\n",
            "Requirement already satisfied: soundfile>=0.12.1 in /usr/local/lib/python3.12/dist-packages (from librosa) (0.13.1)\n",
            "Requirement already satisfied: pooch>=1.1 in /usr/local/lib/python3.12/dist-packages (from librosa) (1.8.2)\n",
            "Requirement already satisfied: soxr>=0.3.2 in /usr/local/lib/python3.12/dist-packages (from librosa) (1.0.0)\n",
            "Requirement already satisfied: lazy_loader>=0.1 in /usr/local/lib/python3.12/dist-packages (from librosa) (0.4)\n",
            "Requirement already satisfied: msgpack>=1.0 in /usr/local/lib/python3.12/dist-packages (from librosa) (1.1.1)\n",
            "Requirement already satisfied: aiohttp!=4.0.0a0,!=4.0.0a1 in /usr/local/lib/python3.12/dist-packages (from fsspec[http]<=2025.3.0,>=2023.1.0->datasets) (3.12.15)\n",
            "Requirement already satisfied: hf-xet<2.0.0,>=1.1.3 in /usr/local/lib/python3.12/dist-packages (from huggingface-hub<1.0,>=0.34.0->transformers) (1.1.10)\n",
            "Requirement already satisfied: llvmlite<0.44,>=0.43.0dev0 in /usr/local/lib/python3.12/dist-packages (from numba>=0.51.0->librosa) (0.43.0)\n",
            "Requirement already satisfied: platformdirs>=2.5.0 in /usr/local/lib/python3.12/dist-packages (from pooch>=1.1->librosa) (4.4.0)\n",
            "Requirement already satisfied: charset_normalizer<4,>=2 in /usr/local/lib/python3.12/dist-packages (from requests->transformers) (3.4.3)\n",
            "Requirement already satisfied: idna<4,>=2.5 in /usr/local/lib/python3.12/dist-packages (from requests->transformers) (3.10)\n",
            "Requirement already satisfied: urllib3<3,>=1.21.1 in /usr/local/lib/python3.12/dist-packages (from requests->transformers) (2.5.0)\n",
            "Requirement already satisfied: certifi>=2017.4.17 in /usr/local/lib/python3.12/dist-packages (from requests->transformers) (2025.8.3)\n",
            "Requirement already satisfied: threadpoolctl>=3.1.0 in /usr/local/lib/python3.12/dist-packages (from scikit-learn>=1.1.0->librosa) (3.6.0)\n",
            "Requirement already satisfied: cffi>=1.0 in /usr/local/lib/python3.12/dist-packages (from soundfile>=0.12.1->librosa) (2.0.0)\n",
            "Requirement already satisfied: mpmath<1.4,>=1.1.0 in /usr/local/lib/python3.12/dist-packages (from sympy>=1.13.3->torch) (1.3.0)\n",
            "Requirement already satisfied: MarkupSafe>=2.0 in /usr/local/lib/python3.12/dist-packages (from jinja2->torch) (3.0.2)\n",
            "Requirement already satisfied: python-dateutil>=2.8.2 in /usr/local/lib/python3.12/dist-packages (from pandas->datasets) (2.9.0.post0)\n",
            "Requirement already satisfied: pytz>=2020.1 in /usr/local/lib/python3.12/dist-packages (from pandas->datasets) (2025.2)\n",
            "Requirement already satisfied: tzdata>=2022.7 in /usr/local/lib/python3.12/dist-packages (from pandas->datasets) (2025.2)\n",
            "Requirement already satisfied: aiohappyeyeballs>=2.5.0 in /usr/local/lib/python3.12/dist-packages (from aiohttp!=4.0.0a0,!=4.0.0a1->fsspec[http]<=2025.3.0,>=2023.1.0->datasets) (2.6.1)\n",
            "Requirement already satisfied: aiosignal>=1.4.0 in /usr/local/lib/python3.12/dist-packages (from aiohttp!=4.0.0a0,!=4.0.0a1->fsspec[http]<=2025.3.0,>=2023.1.0->datasets) (1.4.0)\n",
            "Requirement already satisfied: attrs>=17.3.0 in /usr/local/lib/python3.12/dist-packages (from aiohttp!=4.0.0a0,!=4.0.0a1->fsspec[http]<=2025.3.0,>=2023.1.0->datasets) (25.3.0)\n",
            "Requirement already satisfied: frozenlist>=1.1.1 in /usr/local/lib/python3.12/dist-packages (from aiohttp!=4.0.0a0,!=4.0.0a1->fsspec[http]<=2025.3.0,>=2023.1.0->datasets) (1.7.0)\n",
            "Requirement already satisfied: multidict<7.0,>=4.5 in /usr/local/lib/python3.12/dist-packages (from aiohttp!=4.0.0a0,!=4.0.0a1->fsspec[http]<=2025.3.0,>=2023.1.0->datasets) (6.6.4)\n",
            "Requirement already satisfied: propcache>=0.2.0 in /usr/local/lib/python3.12/dist-packages (from aiohttp!=4.0.0a0,!=4.0.0a1->fsspec[http]<=2025.3.0,>=2023.1.0->datasets) (0.3.2)\n",
            "Requirement already satisfied: yarl<2.0,>=1.17.0 in /usr/local/lib/python3.12/dist-packages (from aiohttp!=4.0.0a0,!=4.0.0a1->fsspec[http]<=2025.3.0,>=2023.1.0->datasets) (1.20.1)\n",
            "Requirement already satisfied: pycparser in /usr/local/lib/python3.12/dist-packages (from cffi>=1.0->soundfile>=0.12.1->librosa) (2.23)\n",
            "Requirement already satisfied: six>=1.5 in /usr/local/lib/python3.12/dist-packages (from python-dateutil>=2.8.2->pandas->datasets) (1.17.0)\n"
          ]
        }
      ],
      "source": [
        "!pip install transformers torch datasets librosa"
      ]
    },
    {
      "cell_type": "code",
      "execution_count": null,
      "metadata": {
        "colab": {
          "base_uri": "https://localhost:8080/"
        },
        "id": "HlrLiyC2LxSb",
        "outputId": "22a65755-93f9-4c96-fc9c-274e609a7860"
      },
      "outputs": [
        {
          "name": "stdout",
          "output_type": "stream",
          "text": [
            "✅ FFmpeg installed successfully!\n"
          ]
        }
      ],
      "source": [
        "# Install FFmpeg in Google Colab\n",
        "!apt update &> /dev/null\n",
        "!apt install ffmpeg &> /dev/null\n",
        "print(\"✅ FFmpeg installed successfully!\")"
      ]
    },
    {
      "cell_type": "code",
      "execution_count": 3,
      "metadata": {
        "colab": {
          "base_uri": "https://localhost:8080/",
          "height": 447
        },
        "id": "bHcpbaYJq26A",
        "outputId": "6b7c0ecd-a68c-4c47-b037-3c784a86aa6a"
      },
      "outputs": [
        {
          "output_type": "stream",
          "name": "stdout",
          "text": [
            "Loading the drone detection model...\n"
          ]
        },
        {
          "output_type": "stream",
          "name": "stderr",
          "text": [
            "Device set to use cuda:0\n"
          ]
        },
        {
          "output_type": "stream",
          "name": "stdout",
          "text": [
            "Model loaded successfully!\n",
            "\n",
            "Please upload an audio file (e.g., .wav, .mp3).\n"
          ]
        },
        {
          "output_type": "display_data",
          "data": {
            "text/plain": [
              "<IPython.core.display.HTML object>"
            ],
            "text/html": [
              "\n",
              "     <input type=\"file\" id=\"files-74c03005-935c-43ca-9e7a-edf705845f58\" name=\"files[]\" multiple disabled\n",
              "        style=\"border:none\" />\n",
              "     <output id=\"result-74c03005-935c-43ca-9e7a-edf705845f58\">\n",
              "      Upload widget is only available when the cell has been executed in the\n",
              "      current browser session. Please rerun this cell to enable.\n",
              "      </output>\n",
              "      <script>// Copyright 2017 Google LLC\n",
              "//\n",
              "// Licensed under the Apache License, Version 2.0 (the \"License\");\n",
              "// you may not use this file except in compliance with the License.\n",
              "// You may obtain a copy of the License at\n",
              "//\n",
              "//      http://www.apache.org/licenses/LICENSE-2.0\n",
              "//\n",
              "// Unless required by applicable law or agreed to in writing, software\n",
              "// distributed under the License is distributed on an \"AS IS\" BASIS,\n",
              "// WITHOUT WARRANTIES OR CONDITIONS OF ANY KIND, either express or implied.\n",
              "// See the License for the specific language governing permissions and\n",
              "// limitations under the License.\n",
              "\n",
              "/**\n",
              " * @fileoverview Helpers for google.colab Python module.\n",
              " */\n",
              "(function(scope) {\n",
              "function span(text, styleAttributes = {}) {\n",
              "  const element = document.createElement('span');\n",
              "  element.textContent = text;\n",
              "  for (const key of Object.keys(styleAttributes)) {\n",
              "    element.style[key] = styleAttributes[key];\n",
              "  }\n",
              "  return element;\n",
              "}\n",
              "\n",
              "// Max number of bytes which will be uploaded at a time.\n",
              "const MAX_PAYLOAD_SIZE = 100 * 1024;\n",
              "\n",
              "function _uploadFiles(inputId, outputId) {\n",
              "  const steps = uploadFilesStep(inputId, outputId);\n",
              "  const outputElement = document.getElementById(outputId);\n",
              "  // Cache steps on the outputElement to make it available for the next call\n",
              "  // to uploadFilesContinue from Python.\n",
              "  outputElement.steps = steps;\n",
              "\n",
              "  return _uploadFilesContinue(outputId);\n",
              "}\n",
              "\n",
              "// This is roughly an async generator (not supported in the browser yet),\n",
              "// where there are multiple asynchronous steps and the Python side is going\n",
              "// to poll for completion of each step.\n",
              "// This uses a Promise to block the python side on completion of each step,\n",
              "// then passes the result of the previous step as the input to the next step.\n",
              "function _uploadFilesContinue(outputId) {\n",
              "  const outputElement = document.getElementById(outputId);\n",
              "  const steps = outputElement.steps;\n",
              "\n",
              "  const next = steps.next(outputElement.lastPromiseValue);\n",
              "  return Promise.resolve(next.value.promise).then((value) => {\n",
              "    // Cache the last promise value to make it available to the next\n",
              "    // step of the generator.\n",
              "    outputElement.lastPromiseValue = value;\n",
              "    return next.value.response;\n",
              "  });\n",
              "}\n",
              "\n",
              "/**\n",
              " * Generator function which is called between each async step of the upload\n",
              " * process.\n",
              " * @param {string} inputId Element ID of the input file picker element.\n",
              " * @param {string} outputId Element ID of the output display.\n",
              " * @return {!Iterable<!Object>} Iterable of next steps.\n",
              " */\n",
              "function* uploadFilesStep(inputId, outputId) {\n",
              "  const inputElement = document.getElementById(inputId);\n",
              "  inputElement.disabled = false;\n",
              "\n",
              "  const outputElement = document.getElementById(outputId);\n",
              "  outputElement.innerHTML = '';\n",
              "\n",
              "  const pickedPromise = new Promise((resolve) => {\n",
              "    inputElement.addEventListener('change', (e) => {\n",
              "      resolve(e.target.files);\n",
              "    });\n",
              "  });\n",
              "\n",
              "  const cancel = document.createElement('button');\n",
              "  inputElement.parentElement.appendChild(cancel);\n",
              "  cancel.textContent = 'Cancel upload';\n",
              "  const cancelPromise = new Promise((resolve) => {\n",
              "    cancel.onclick = () => {\n",
              "      resolve(null);\n",
              "    };\n",
              "  });\n",
              "\n",
              "  // Wait for the user to pick the files.\n",
              "  const files = yield {\n",
              "    promise: Promise.race([pickedPromise, cancelPromise]),\n",
              "    response: {\n",
              "      action: 'starting',\n",
              "    }\n",
              "  };\n",
              "\n",
              "  cancel.remove();\n",
              "\n",
              "  // Disable the input element since further picks are not allowed.\n",
              "  inputElement.disabled = true;\n",
              "\n",
              "  if (!files) {\n",
              "    return {\n",
              "      response: {\n",
              "        action: 'complete',\n",
              "      }\n",
              "    };\n",
              "  }\n",
              "\n",
              "  for (const file of files) {\n",
              "    const li = document.createElement('li');\n",
              "    li.append(span(file.name, {fontWeight: 'bold'}));\n",
              "    li.append(span(\n",
              "        `(${file.type || 'n/a'}) - ${file.size} bytes, ` +\n",
              "        `last modified: ${\n",
              "            file.lastModifiedDate ? file.lastModifiedDate.toLocaleDateString() :\n",
              "                                    'n/a'} - `));\n",
              "    const percent = span('0% done');\n",
              "    li.appendChild(percent);\n",
              "\n",
              "    outputElement.appendChild(li);\n",
              "\n",
              "    const fileDataPromise = new Promise((resolve) => {\n",
              "      const reader = new FileReader();\n",
              "      reader.onload = (e) => {\n",
              "        resolve(e.target.result);\n",
              "      };\n",
              "      reader.readAsArrayBuffer(file);\n",
              "    });\n",
              "    // Wait for the data to be ready.\n",
              "    let fileData = yield {\n",
              "      promise: fileDataPromise,\n",
              "      response: {\n",
              "        action: 'continue',\n",
              "      }\n",
              "    };\n",
              "\n",
              "    // Use a chunked sending to avoid message size limits. See b/62115660.\n",
              "    let position = 0;\n",
              "    do {\n",
              "      const length = Math.min(fileData.byteLength - position, MAX_PAYLOAD_SIZE);\n",
              "      const chunk = new Uint8Array(fileData, position, length);\n",
              "      position += length;\n",
              "\n",
              "      const base64 = btoa(String.fromCharCode.apply(null, chunk));\n",
              "      yield {\n",
              "        response: {\n",
              "          action: 'append',\n",
              "          file: file.name,\n",
              "          data: base64,\n",
              "        },\n",
              "      };\n",
              "\n",
              "      let percentDone = fileData.byteLength === 0 ?\n",
              "          100 :\n",
              "          Math.round((position / fileData.byteLength) * 100);\n",
              "      percent.textContent = `${percentDone}% done`;\n",
              "\n",
              "    } while (position < fileData.byteLength);\n",
              "  }\n",
              "\n",
              "  // All done.\n",
              "  yield {\n",
              "    response: {\n",
              "      action: 'complete',\n",
              "    }\n",
              "  };\n",
              "}\n",
              "\n",
              "scope.google = scope.google || {};\n",
              "scope.google.colab = scope.google.colab || {};\n",
              "scope.google.colab._files = {\n",
              "  _uploadFiles,\n",
              "  _uploadFilesContinue,\n",
              "};\n",
              "})(self);\n",
              "</script> "
            ]
          },
          "metadata": {}
        },
        {
          "output_type": "stream",
          "name": "stdout",
          "text": [
            "Saving B_S2_D1_067-bebop_000_.wav to B_S2_D1_067-bebop_000_.wav\n",
            "\n",
            "Successfully uploaded: B_S2_D1_067-bebop_000_.wav\n",
            "Playing your audio...\n"
          ]
        },
        {
          "output_type": "display_data",
          "data": {
            "text/plain": [
              "<IPython.lib.display.Audio object>"
            ],
            "text/html": [
              "\n",
              "                <audio  controls=\"controls\" >\n",
              "                    <source src=\"data:audio/x-wav;base64,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\" type=\"audio/x-wav\" />\n",
              "                    Your browser does not support the audio element.\n",
              "                </audio>\n",
              "              "
            ]
          },
          "metadata": {}
        },
        {
          "output_type": "stream",
          "name": "stdout",
          "text": [
            "\n",
            "Classifying the audio... this may take a moment.\n"
          ]
        },
        {
          "output_type": "stream",
          "name": "stderr",
          "text": [
            "/usr/local/lib/python3.12/dist-packages/transformers/models/audio_spectrogram_transformer/feature_extraction_audio_spectrogram_transformer.py:118: UserWarning: The given NumPy array is not writable, and PyTorch does not support non-writable tensors. This means writing to this tensor will result in undefined behavior. You may want to copy the array to protect its data or make it writable before converting it to a tensor. This type of warning will be suppressed for the rest of this program. (Triggered internally at /pytorch/torch/csrc/utils/tensor_numpy.cpp:203.)\n",
            "  waveform = torch.from_numpy(waveform).unsqueeze(0)\n"
          ]
        },
        {
          "output_type": "stream",
          "name": "stdout",
          "text": [
            "\n",
            "--- DETECTION RESULTS ---\n",
            "Detected Sound: drone, Confidence Score: 99.47%\n",
            "Detected Sound: not_drone, Confidence Score: 0.53%\n"
          ]
        }
      ],
      "source": [
        "# 1. Import necessary tools\n",
        "from transformers import pipeline\n",
        "from google.colab import files\n",
        "import IPython.display as ipd\n",
        "\n",
        "# 2. Load the pre-trained drone detection model from Hugging Face\n",
        "print(\"Loading the drone detection model...\")\n",
        "# This 'pipeline' handles all the complex steps for you.\n",
        "drone_detector = pipeline(\"audio-classification\", model=\"preszzz/drone-audio-detection-05-17-trial-0\")\n",
        "print(\"Model loaded successfully!\")\n",
        "\n",
        "# 3. Create an upload button for your audio file\n",
        "print(\"\\nPlease upload an audio file (e.g., .wav, .mp3).\")\n",
        "uploaded = files.upload()\n",
        "\n",
        "# Get the name of the file you just uploaded\n",
        "file_name = next(iter(uploaded))\n",
        "print(f\"\\nSuccessfully uploaded: {file_name}\")\n",
        "\n",
        "# 4. (Optional) Play the audio in Colab so you can hear it\n",
        "print(\"Playing your audio...\")\n",
        "ipd.display(ipd.Audio(file_name))\n",
        "\n",
        "# 5. Use the model to classify the audio file\n",
        "print(\"\\nClassifying the audio... this may take a moment.\")\n",
        "results = drone_detector(file_name)\n",
        "\n",
        "# 6. Print the final results in an easy-to-read format\n",
        "print(\"\\n--- DETECTION RESULTS ---\")\n",
        "# The model may output multiple possible labels, so we'll look at all of them.\n",
        "for result in results:\n",
        "    label = result['label']\n",
        "    score = result['score']\n",
        "    # The 'label' will likely be 'drone' or 'not_drone'.\n",
        "    # The 'score' is the model's confidence from 0 to 1.\n",
        "    print(f\"Detected Sound: {label}, Confidence Score: {score:.2%}\")"
      ]
    }
  ],
  "metadata": {
    "accelerator": "GPU",
    "colab": {
      "gpuType": "T4",
      "provenance": []
    },
    "kernelspec": {
      "display_name": "Python 3",
      "name": "python3"
    },
    "language_info": {
      "name": "python"
    }
  },
  "nbformat": 4,
  "nbformat_minor": 0
}